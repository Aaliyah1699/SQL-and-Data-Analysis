{
 "cells": [
  {
   "cell_type": "code",
   "execution_count": 3,
   "id": "01e4f932",
   "metadata": {},
   "outputs": [],
   "source": [
    "import pandas as pd\n",
    "import matplotlib as plt"
   ]
  },
  {
   "cell_type": "code",
   "execution_count": 14,
   "id": "c88d41af",
   "metadata": {},
   "outputs": [],
   "source": [
    "world = pd.read_csv('CSV Files/2018-2019 Happiness.csv')\n",
    "airbnb = pd.read_csv('CSV Files/airbnb.csv')\n",
    "salaries = pd.read_csv('CSV Files/salaries.csv')\n",
    "sales = pd.read_csv('CSV Files/web_sales.csv')"
   ]
  },
  {
   "cell_type": "code",
   "execution_count": 16,
   "id": "044908d0",
   "metadata": {},
   "outputs": [
    {
     "name": "stdout",
     "output_type": "stream",
     "text": [
      "<class 'pandas.core.frame.DataFrame'>\n",
      "RangeIndex: 60398 entries, 0 to 60397\n",
      "Data columns (total 11 columns):\n",
      " #   Column                 Non-Null Count  Dtype  \n",
      "---  ------                 --------------  -----  \n",
      " 0   ProductKey             60398 non-null  int64  \n",
      " 1   product                60398 non-null  object \n",
      " 2   product_subcategory    60398 non-null  object \n",
      " 3   OrderDateKey           60398 non-null  int64  \n",
      " 4   CalendarYear           60398 non-null  int64  \n",
      " 5   SalesTerritoryRegion   60398 non-null  object \n",
      " 6   SalesTerritoryCountry  60398 non-null  object \n",
      " 7   SalesOrderNumber       60398 non-null  object \n",
      " 8   SalesAmount            60398 non-null  float64\n",
      " 9   TaxAmt                 60398 non-null  float64\n",
      " 10  Freight                60398 non-null  float64\n",
      "dtypes: float64(3), int64(3), object(5)\n",
      "memory usage: 5.1+ MB\n"
     ]
    }
   ],
   "source": [
    "sales.info()"
   ]
  },
  {
   "cell_type": "code",
   "execution_count": 4,
   "id": "82ab38cd",
   "metadata": {},
   "outputs": [
    {
     "data": {
      "text/plain": [
       "0        3578.2700\n",
       "1        3399.9900\n",
       "2        3399.9900\n",
       "3         699.0982\n",
       "4        3399.9900\n",
       "           ...    \n",
       "60393      21.9800\n",
       "60394       8.9900\n",
       "60395      21.9800\n",
       "60396     159.0000\n",
       "60397       8.9900\n",
       "Name: SalesAmount, Length: 60398, dtype: float64"
      ]
     },
     "execution_count": 4,
     "metadata": {},
     "output_type": "execute_result"
    }
   ],
   "source": [
    "sales.SalesAmount"
   ]
  },
  {
   "cell_type": "code",
   "execution_count": 5,
   "id": "41fc8d3f",
   "metadata": {},
   "outputs": [
    {
     "data": {
      "text/plain": [
       "0        3578.2700\n",
       "1        3399.9900\n",
       "2        3399.9900\n",
       "3         699.0982\n",
       "4        3399.9900\n",
       "           ...    \n",
       "60393      21.9800\n",
       "60394       8.9900\n",
       "60395      21.9800\n",
       "60396     159.0000\n",
       "60397       8.9900\n",
       "Name: SalesAmount, Length: 60398, dtype: float64"
      ]
     },
     "execution_count": 5,
     "metadata": {},
     "output_type": "execute_result"
    }
   ],
   "source": [
    "sales['SalesAmount']"
   ]
  },
  {
   "cell_type": "code",
   "execution_count": 6,
   "id": "afad0f0f",
   "metadata": {},
   "outputs": [
    {
     "data": {
      "text/plain": [
       "Index(['Host Id', 'Host Since', 'Name', 'Neighbourhood', 'Property Type',\n",
       "       'Review Scores Rating (bin)', 'Room Type', 'Zipcode', 'Beds',\n",
       "       'Number of Records', 'Number Of Reviews', 'Price',\n",
       "       'Review Scores Rating'],\n",
       "      dtype='object')"
      ]
     },
     "execution_count": 6,
     "metadata": {},
     "output_type": "execute_result"
    }
   ],
   "source": [
    "airbnb.columns"
   ]
  },
  {
   "cell_type": "code",
   "execution_count": 7,
   "id": "3f68b781",
   "metadata": {},
   "outputs": [
    {
     "data": {
      "text/html": [
       "<div>\n",
       "<style scoped>\n",
       "    .dataframe tbody tr th:only-of-type {\n",
       "        vertical-align: middle;\n",
       "    }\n",
       "\n",
       "    .dataframe tbody tr th {\n",
       "        vertical-align: top;\n",
       "    }\n",
       "\n",
       "    .dataframe thead th {\n",
       "        text-align: right;\n",
       "    }\n",
       "</style>\n",
       "<table border=\"1\" class=\"dataframe\">\n",
       "  <thead>\n",
       "    <tr style=\"text-align: right;\">\n",
       "      <th></th>\n",
       "      <th>Property Type</th>\n",
       "      <th>Room Type</th>\n",
       "      <th>Beds</th>\n",
       "    </tr>\n",
       "  </thead>\n",
       "  <tbody>\n",
       "    <tr>\n",
       "      <th>0</th>\n",
       "      <td>Apartment</td>\n",
       "      <td>Entire home/apt</td>\n",
       "      <td>1.0</td>\n",
       "    </tr>\n",
       "    <tr>\n",
       "      <th>1</th>\n",
       "      <td>Apartment</td>\n",
       "      <td>Private room</td>\n",
       "      <td>1.0</td>\n",
       "    </tr>\n",
       "    <tr>\n",
       "      <th>2</th>\n",
       "      <td>Apartment</td>\n",
       "      <td>Private room</td>\n",
       "      <td>1.0</td>\n",
       "    </tr>\n",
       "    <tr>\n",
       "      <th>3</th>\n",
       "      <td>Apartment</td>\n",
       "      <td>Entire home/apt</td>\n",
       "      <td>3.0</td>\n",
       "    </tr>\n",
       "    <tr>\n",
       "      <th>4</th>\n",
       "      <td>Apartment</td>\n",
       "      <td>Private room</td>\n",
       "      <td>3.0</td>\n",
       "    </tr>\n",
       "    <tr>\n",
       "      <th>...</th>\n",
       "      <td>...</td>\n",
       "      <td>...</td>\n",
       "      <td>...</td>\n",
       "    </tr>\n",
       "    <tr>\n",
       "      <th>30473</th>\n",
       "      <td>Apartment</td>\n",
       "      <td>Entire home/apt</td>\n",
       "      <td>5.0</td>\n",
       "    </tr>\n",
       "    <tr>\n",
       "      <th>30474</th>\n",
       "      <td>Apartment</td>\n",
       "      <td>Private room</td>\n",
       "      <td>2.0</td>\n",
       "    </tr>\n",
       "    <tr>\n",
       "      <th>30475</th>\n",
       "      <td>Other</td>\n",
       "      <td>Private room</td>\n",
       "      <td>1.0</td>\n",
       "    </tr>\n",
       "    <tr>\n",
       "      <th>30476</th>\n",
       "      <td>Apartment</td>\n",
       "      <td>Private room</td>\n",
       "      <td>1.0</td>\n",
       "    </tr>\n",
       "    <tr>\n",
       "      <th>30477</th>\n",
       "      <td>House</td>\n",
       "      <td>Private room</td>\n",
       "      <td>1.0</td>\n",
       "    </tr>\n",
       "  </tbody>\n",
       "</table>\n",
       "<p>30478 rows × 3 columns</p>\n",
       "</div>"
      ],
      "text/plain": [
       "      Property Type        Room Type  Beds\n",
       "0         Apartment  Entire home/apt   1.0\n",
       "1         Apartment     Private room   1.0\n",
       "2         Apartment     Private room   1.0\n",
       "3         Apartment  Entire home/apt   3.0\n",
       "4         Apartment     Private room   3.0\n",
       "...             ...              ...   ...\n",
       "30473     Apartment  Entire home/apt   5.0\n",
       "30474     Apartment     Private room   2.0\n",
       "30475         Other     Private room   1.0\n",
       "30476     Apartment     Private room   1.0\n",
       "30477         House     Private room   1.0\n",
       "\n",
       "[30478 rows x 3 columns]"
      ]
     },
     "execution_count": 7,
     "metadata": {},
     "output_type": "execute_result"
    }
   ],
   "source": [
    "airbnb[['Property Type', 'Room Type', 'Beds']]"
   ]
  },
  {
   "cell_type": "code",
   "execution_count": 8,
   "id": "d7c4b361",
   "metadata": {},
   "outputs": [
    {
     "data": {
      "text/plain": [
       "Index(['work_year', 'experience_level', 'employment_type', 'job_title',\n",
       "       'salary', 'salary_currency', 'salary_in_usd', 'employee_residence',\n",
       "       'remote_ratio', 'company_location', 'company_size'],\n",
       "      dtype='object')"
      ]
     },
     "execution_count": 8,
     "metadata": {},
     "output_type": "execute_result"
    }
   ],
   "source": [
    "salaries.columns"
   ]
  },
  {
   "cell_type": "code",
   "execution_count": 9,
   "id": "a62f8f8a",
   "metadata": {},
   "outputs": [
    {
     "data": {
      "text/html": [
       "<div>\n",
       "<style scoped>\n",
       "    .dataframe tbody tr th:only-of-type {\n",
       "        vertical-align: middle;\n",
       "    }\n",
       "\n",
       "    .dataframe tbody tr th {\n",
       "        vertical-align: top;\n",
       "    }\n",
       "\n",
       "    .dataframe thead th {\n",
       "        text-align: right;\n",
       "    }\n",
       "</style>\n",
       "<table border=\"1\" class=\"dataframe\">\n",
       "  <thead>\n",
       "    <tr style=\"text-align: right;\">\n",
       "      <th></th>\n",
       "      <th>experience_level</th>\n",
       "      <th>job_title</th>\n",
       "      <th>salary_in_usd</th>\n",
       "    </tr>\n",
       "  </thead>\n",
       "  <tbody>\n",
       "    <tr>\n",
       "      <th>0</th>\n",
       "      <td>EX</td>\n",
       "      <td>Data Science Director</td>\n",
       "      <td>212000</td>\n",
       "    </tr>\n",
       "    <tr>\n",
       "      <th>1</th>\n",
       "      <td>EX</td>\n",
       "      <td>Data Science Director</td>\n",
       "      <td>190000</td>\n",
       "    </tr>\n",
       "    <tr>\n",
       "      <th>2</th>\n",
       "      <td>MI</td>\n",
       "      <td>Business Intelligence Engineer</td>\n",
       "      <td>43064</td>\n",
       "    </tr>\n",
       "    <tr>\n",
       "      <th>3</th>\n",
       "      <td>MI</td>\n",
       "      <td>Business Intelligence Engineer</td>\n",
       "      <td>43064</td>\n",
       "    </tr>\n",
       "    <tr>\n",
       "      <th>4</th>\n",
       "      <td>SE</td>\n",
       "      <td>Machine Learning Engineer</td>\n",
       "      <td>245700</td>\n",
       "    </tr>\n",
       "    <tr>\n",
       "      <th>...</th>\n",
       "      <td>...</td>\n",
       "      <td>...</td>\n",
       "      <td>...</td>\n",
       "    </tr>\n",
       "    <tr>\n",
       "      <th>8800</th>\n",
       "      <td>SE</td>\n",
       "      <td>Data Scientist</td>\n",
       "      <td>412000</td>\n",
       "    </tr>\n",
       "    <tr>\n",
       "      <th>8801</th>\n",
       "      <td>MI</td>\n",
       "      <td>Principal Data Scientist</td>\n",
       "      <td>151000</td>\n",
       "    </tr>\n",
       "    <tr>\n",
       "      <th>8802</th>\n",
       "      <td>EN</td>\n",
       "      <td>Data Scientist</td>\n",
       "      <td>105000</td>\n",
       "    </tr>\n",
       "    <tr>\n",
       "      <th>8803</th>\n",
       "      <td>EN</td>\n",
       "      <td>Business Data Analyst</td>\n",
       "      <td>100000</td>\n",
       "    </tr>\n",
       "    <tr>\n",
       "      <th>8804</th>\n",
       "      <td>SE</td>\n",
       "      <td>Data Science Manager</td>\n",
       "      <td>94665</td>\n",
       "    </tr>\n",
       "  </tbody>\n",
       "</table>\n",
       "<p>8805 rows × 3 columns</p>\n",
       "</div>"
      ],
      "text/plain": [
       "     experience_level                       job_title  salary_in_usd\n",
       "0                  EX           Data Science Director         212000\n",
       "1                  EX           Data Science Director         190000\n",
       "2                  MI  Business Intelligence Engineer          43064\n",
       "3                  MI  Business Intelligence Engineer          43064\n",
       "4                  SE       Machine Learning Engineer         245700\n",
       "...               ...                             ...            ...\n",
       "8800               SE                  Data Scientist         412000\n",
       "8801               MI        Principal Data Scientist         151000\n",
       "8802               EN                  Data Scientist         105000\n",
       "8803               EN           Business Data Analyst         100000\n",
       "8804               SE            Data Science Manager          94665\n",
       "\n",
       "[8805 rows x 3 columns]"
      ]
     },
     "execution_count": 9,
     "metadata": {},
     "output_type": "execute_result"
    }
   ],
   "source": [
    "salaries[['experience_level', 'job_title', 'salary_in_usd']]"
   ]
  },
  {
   "cell_type": "code",
   "execution_count": 10,
   "id": "32c40175",
   "metadata": {},
   "outputs": [
    {
     "data": {
      "text/plain": [
       "149488.26564452017"
      ]
     },
     "execution_count": 10,
     "metadata": {},
     "output_type": "execute_result"
    }
   ],
   "source": [
    "salaries['salary_in_usd'].mean()"
   ]
  },
  {
   "cell_type": "code",
   "execution_count": 11,
   "id": "4ad8ffea",
   "metadata": {},
   "outputs": [
    {
     "data": {
      "text/plain": [
       "1316244179"
      ]
     },
     "execution_count": 11,
     "metadata": {},
     "output_type": "execute_result"
    }
   ],
   "source": [
    "salaries['salary_in_usd'].max()\n",
    "salaries['salary_in_usd'].min()\n",
    "salaries['salary_in_usd'].sum()"
   ]
  },
  {
   "cell_type": "code",
   "execution_count": 12,
   "id": "c25be0f4",
   "metadata": {},
   "outputs": [
    {
     "data": {
      "text/plain": [
       "29358677.220699996"
      ]
     },
     "execution_count": 12,
     "metadata": {},
     "output_type": "execute_result"
    }
   ],
   "source": [
    "sales['SalesAmount'].sum()"
   ]
  },
  {
   "cell_type": "code",
   "execution_count": 13,
   "id": "013e9e81",
   "metadata": {},
   "outputs": [
    {
     "data": {
      "text/plain": [
       "ProductKey                                      606\n",
       "product                  Women's Mountain Shorts, S\n",
       "product_subcategory                           Vests\n",
       "OrderDateKey                               20140128\n",
       "CalendarYear                                   2014\n",
       "SalesTerritoryRegion                 United Kingdom\n",
       "SalesTerritoryCountry                 United States\n",
       "SalesOrderNumber                            SO75123\n",
       "SalesAmount                                 3578.27\n",
       "TaxAmt                                     286.2616\n",
       "Freight                                     89.4568\n",
       "dtype: object"
      ]
     },
     "execution_count": 13,
     "metadata": {},
     "output_type": "execute_result"
    }
   ],
   "source": [
    "sales.max()"
   ]
  },
  {
   "cell_type": "code",
   "execution_count": 14,
   "id": "e646bdd0",
   "metadata": {},
   "outputs": [
    {
     "data": {
      "text/plain": [
       "work_year                     2020\n",
       "experience_level                EN\n",
       "employment_type                 CT\n",
       "job_title             AI Architect\n",
       "salary                       14000\n",
       "salary_currency                AUD\n",
       "salary_in_usd                15000\n",
       "employee_residence              AD\n",
       "remote_ratio                     0\n",
       "company_location                AD\n",
       "company_size                     L\n",
       "dtype: object"
      ]
     },
     "execution_count": 14,
     "metadata": {},
     "output_type": "execute_result"
    }
   ],
   "source": [
    "salaries.min()"
   ]
  },
  {
   "cell_type": "code",
   "execution_count": 15,
   "id": "1d4aa347",
   "metadata": {},
   "outputs": [
    {
     "data": {
      "text/plain": [
       "ProductKey      4.375579e+02\n",
       "OrderDateKey    2.012973e+07\n",
       "CalendarYear    2.012902e+03\n",
       "SalesAmount     4.860869e+02\n",
       "TaxAmt          3.888695e+01\n",
       "Freight         1.215222e+01\n",
       "dtype: float64"
      ]
     },
     "execution_count": 15,
     "metadata": {},
     "output_type": "execute_result"
    }
   ],
   "source": [
    "sales.mean(numeric_only = True)"
   ]
  },
  {
   "cell_type": "code",
   "execution_count": 16,
   "id": "7f5ebd2a",
   "metadata": {},
   "outputs": [
    {
     "data": {
      "text/plain": [
       "486.0869"
      ]
     },
     "execution_count": 16,
     "metadata": {},
     "output_type": "execute_result"
    }
   ],
   "source": [
    "4.860869e+02"
   ]
  },
  {
   "cell_type": "code",
   "execution_count": 17,
   "id": "12b59ec8",
   "metadata": {},
   "outputs": [
    {
     "data": {
      "text/plain": [
       "928.4898919809369"
      ]
     },
     "execution_count": 17,
     "metadata": {},
     "output_type": "execute_result"
    }
   ],
   "source": [
    "sales['SalesAmount'].std()"
   ]
  },
  {
   "cell_type": "code",
   "execution_count": 18,
   "id": "fadc4625",
   "metadata": {},
   "outputs": [
    {
     "data": {
      "text/plain": [
       "486.0869105053147"
      ]
     },
     "execution_count": 18,
     "metadata": {},
     "output_type": "execute_result"
    }
   ],
   "source": [
    "sales['SalesAmount'].mean()"
   ]
  },
  {
   "cell_type": "code",
   "execution_count": 19,
   "id": "4c6f7a7b",
   "metadata": {},
   "outputs": [
    {
     "data": {
      "text/plain": [
       "1.0153587174802678"
      ]
     },
     "execution_count": 19,
     "metadata": {},
     "output_type": "execute_result"
    }
   ],
   "source": [
    "airbnb['Beds'].std()"
   ]
  },
  {
   "cell_type": "code",
   "execution_count": 20,
   "id": "a0da0890",
   "metadata": {},
   "outputs": [
    {
     "data": {
      "text/plain": [
       "30393"
      ]
     },
     "execution_count": 20,
     "metadata": {},
     "output_type": "execute_result"
    }
   ],
   "source": [
    "airbnb['Beds'].count()"
   ]
  },
  {
   "cell_type": "code",
   "execution_count": 21,
   "id": "a0812ad0",
   "metadata": {},
   "outputs": [
    {
     "data": {
      "text/plain": [
       "(30478, 13)"
      ]
     },
     "execution_count": 21,
     "metadata": {},
     "output_type": "execute_result"
    }
   ],
   "source": [
    "airbnb.shape"
   ]
  },
  {
   "cell_type": "code",
   "execution_count": 22,
   "id": "18f47aa6",
   "metadata": {},
   "outputs": [
    {
     "data": {
      "text/plain": [
       "Host Id                       30478\n",
       "Host Since                    30475\n",
       "Name                          30478\n",
       "Neighbourhood                 30478\n",
       "Property Type                 30475\n",
       "Review Scores Rating (bin)    22155\n",
       "Room Type                     30478\n",
       "Zipcode                       30344\n",
       "Beds                          30393\n",
       "Number of Records             30478\n",
       "Number Of Reviews             30478\n",
       "Price                         30478\n",
       "Review Scores Rating          22155\n",
       "dtype: int64"
      ]
     },
     "execution_count": 22,
     "metadata": {},
     "output_type": "execute_result"
    }
   ],
   "source": [
    "airbnb.count()"
   ]
  },
  {
   "cell_type": "code",
   "execution_count": 24,
   "id": "103de85d",
   "metadata": {},
   "outputs": [
    {
     "data": {
      "text/html": [
       "<div>\n",
       "<style scoped>\n",
       "    .dataframe tbody tr th:only-of-type {\n",
       "        vertical-align: middle;\n",
       "    }\n",
       "\n",
       "    .dataframe tbody tr th {\n",
       "        vertical-align: top;\n",
       "    }\n",
       "\n",
       "    .dataframe thead th {\n",
       "        text-align: right;\n",
       "    }\n",
       "</style>\n",
       "<table border=\"1\" class=\"dataframe\">\n",
       "  <thead>\n",
       "    <tr style=\"text-align: right;\">\n",
       "      <th></th>\n",
       "      <th>ProductKey</th>\n",
       "      <th>OrderDateKey</th>\n",
       "      <th>CalendarYear</th>\n",
       "      <th>SalesAmount</th>\n",
       "      <th>TaxAmt</th>\n",
       "      <th>Freight</th>\n",
       "    </tr>\n",
       "  </thead>\n",
       "  <tbody>\n",
       "    <tr>\n",
       "      <th>count</th>\n",
       "      <td>60398.000000</td>\n",
       "      <td>6.039800e+04</td>\n",
       "      <td>60398.000000</td>\n",
       "      <td>60398.000000</td>\n",
       "      <td>60398.000000</td>\n",
       "      <td>60398.000000</td>\n",
       "    </tr>\n",
       "    <tr>\n",
       "      <th>mean</th>\n",
       "      <td>437.557932</td>\n",
       "      <td>2.012973e+07</td>\n",
       "      <td>2012.902298</td>\n",
       "      <td>486.086911</td>\n",
       "      <td>38.886954</td>\n",
       "      <td>12.152217</td>\n",
       "    </tr>\n",
       "    <tr>\n",
       "      <th>std</th>\n",
       "      <td>118.088390</td>\n",
       "      <td>4.745050e+03</td>\n",
       "      <td>0.477666</td>\n",
       "      <td>928.489892</td>\n",
       "      <td>74.279193</td>\n",
       "      <td>23.212248</td>\n",
       "    </tr>\n",
       "    <tr>\n",
       "      <th>min</th>\n",
       "      <td>214.000000</td>\n",
       "      <td>2.010123e+07</td>\n",
       "      <td>2010.000000</td>\n",
       "      <td>2.290000</td>\n",
       "      <td>0.183200</td>\n",
       "      <td>0.057300</td>\n",
       "    </tr>\n",
       "    <tr>\n",
       "      <th>25%</th>\n",
       "      <td>359.000000</td>\n",
       "      <td>2.013040e+07</td>\n",
       "      <td>2013.000000</td>\n",
       "      <td>7.950000</td>\n",
       "      <td>0.636000</td>\n",
       "      <td>0.198800</td>\n",
       "    </tr>\n",
       "    <tr>\n",
       "      <th>50%</th>\n",
       "      <td>479.000000</td>\n",
       "      <td>2.013071e+07</td>\n",
       "      <td>2013.000000</td>\n",
       "      <td>29.990000</td>\n",
       "      <td>2.399200</td>\n",
       "      <td>0.749800</td>\n",
       "    </tr>\n",
       "    <tr>\n",
       "      <th>75%</th>\n",
       "      <td>529.000000</td>\n",
       "      <td>2.013102e+07</td>\n",
       "      <td>2013.000000</td>\n",
       "      <td>539.990000</td>\n",
       "      <td>43.199200</td>\n",
       "      <td>13.499800</td>\n",
       "    </tr>\n",
       "    <tr>\n",
       "      <th>max</th>\n",
       "      <td>606.000000</td>\n",
       "      <td>2.014013e+07</td>\n",
       "      <td>2014.000000</td>\n",
       "      <td>3578.270000</td>\n",
       "      <td>286.261600</td>\n",
       "      <td>89.456800</td>\n",
       "    </tr>\n",
       "  </tbody>\n",
       "</table>\n",
       "</div>"
      ],
      "text/plain": [
       "         ProductKey  OrderDateKey  CalendarYear   SalesAmount        TaxAmt  \\\n",
       "count  60398.000000  6.039800e+04  60398.000000  60398.000000  60398.000000   \n",
       "mean     437.557932  2.012973e+07   2012.902298    486.086911     38.886954   \n",
       "std      118.088390  4.745050e+03      0.477666    928.489892     74.279193   \n",
       "min      214.000000  2.010123e+07   2010.000000      2.290000      0.183200   \n",
       "25%      359.000000  2.013040e+07   2013.000000      7.950000      0.636000   \n",
       "50%      479.000000  2.013071e+07   2013.000000     29.990000      2.399200   \n",
       "75%      529.000000  2.013102e+07   2013.000000    539.990000     43.199200   \n",
       "max      606.000000  2.014013e+07   2014.000000   3578.270000    286.261600   \n",
       "\n",
       "            Freight  \n",
       "count  60398.000000  \n",
       "mean      12.152217  \n",
       "std       23.212248  \n",
       "min        0.057300  \n",
       "25%        0.198800  \n",
       "50%        0.749800  \n",
       "75%       13.499800  \n",
       "max       89.456800  "
      ]
     },
     "execution_count": 24,
     "metadata": {},
     "output_type": "execute_result"
    }
   ],
   "source": [
    "sales.describe()"
   ]
  },
  {
   "cell_type": "code",
   "execution_count": 25,
   "id": "0ca3163e",
   "metadata": {},
   "outputs": [
    {
     "data": {
      "text/plain": [
       "20129730.0"
      ]
     },
     "execution_count": 25,
     "metadata": {},
     "output_type": "execute_result"
    }
   ],
   "source": [
    "2.012973e+07\n"
   ]
  },
  {
   "cell_type": "code",
   "execution_count": 35,
   "id": "b8672dac",
   "metadata": {},
   "outputs": [
    {
     "data": {
      "text/html": [
       "<div>\n",
       "<style scoped>\n",
       "    .dataframe tbody tr th:only-of-type {\n",
       "        vertical-align: middle;\n",
       "    }\n",
       "\n",
       "    .dataframe tbody tr th {\n",
       "        vertical-align: top;\n",
       "    }\n",
       "\n",
       "    .dataframe thead th {\n",
       "        text-align: right;\n",
       "    }\n",
       "</style>\n",
       "<table border=\"1\" class=\"dataframe\">\n",
       "  <thead>\n",
       "    <tr style=\"text-align: right;\">\n",
       "      <th></th>\n",
       "      <th>Host Id</th>\n",
       "      <th>Review Scores Rating (bin)</th>\n",
       "      <th>Zipcode</th>\n",
       "      <th>Beds</th>\n",
       "      <th>Number of Records</th>\n",
       "      <th>Number Of Reviews</th>\n",
       "      <th>Review Scores Rating</th>\n",
       "    </tr>\n",
       "  </thead>\n",
       "  <tbody>\n",
       "    <tr>\n",
       "      <th>count</th>\n",
       "      <td>3.047800e+04</td>\n",
       "      <td>22155.000000</td>\n",
       "      <td>30344.000000</td>\n",
       "      <td>30393.000000</td>\n",
       "      <td>30478.0</td>\n",
       "      <td>30478.000000</td>\n",
       "      <td>22155.000000</td>\n",
       "    </tr>\n",
       "    <tr>\n",
       "      <th>mean</th>\n",
       "      <td>1.273171e+07</td>\n",
       "      <td>90.738659</td>\n",
       "      <td>10584.854831</td>\n",
       "      <td>1.530089</td>\n",
       "      <td>1.0</td>\n",
       "      <td>12.018735</td>\n",
       "      <td>91.993230</td>\n",
       "    </tr>\n",
       "    <tr>\n",
       "      <th>std</th>\n",
       "      <td>1.190270e+07</td>\n",
       "      <td>9.059519</td>\n",
       "      <td>921.299397</td>\n",
       "      <td>1.015359</td>\n",
       "      <td>0.0</td>\n",
       "      <td>21.980703</td>\n",
       "      <td>8.850373</td>\n",
       "    </tr>\n",
       "    <tr>\n",
       "      <th>min</th>\n",
       "      <td>5.000000e+02</td>\n",
       "      <td>20.000000</td>\n",
       "      <td>1003.000000</td>\n",
       "      <td>0.000000</td>\n",
       "      <td>1.0</td>\n",
       "      <td>0.000000</td>\n",
       "      <td>20.000000</td>\n",
       "    </tr>\n",
       "    <tr>\n",
       "      <th>10%</th>\n",
       "      <td>7.274437e+05</td>\n",
       "      <td>80.000000</td>\n",
       "      <td>10009.000000</td>\n",
       "      <td>1.000000</td>\n",
       "      <td>1.0</td>\n",
       "      <td>0.000000</td>\n",
       "      <td>80.000000</td>\n",
       "    </tr>\n",
       "    <tr>\n",
       "      <th>50%</th>\n",
       "      <td>8.551693e+06</td>\n",
       "      <td>90.000000</td>\n",
       "      <td>10065.000000</td>\n",
       "      <td>1.000000</td>\n",
       "      <td>1.0</td>\n",
       "      <td>3.000000</td>\n",
       "      <td>94.000000</td>\n",
       "    </tr>\n",
       "    <tr>\n",
       "      <th>60%</th>\n",
       "      <td>1.216061e+07</td>\n",
       "      <td>95.000000</td>\n",
       "      <td>11205.000000</td>\n",
       "      <td>1.000000</td>\n",
       "      <td>1.0</td>\n",
       "      <td>6.000000</td>\n",
       "      <td>96.000000</td>\n",
       "    </tr>\n",
       "    <tr>\n",
       "      <th>90%</th>\n",
       "      <td>3.243044e+07</td>\n",
       "      <td>100.000000</td>\n",
       "      <td>11237.000000</td>\n",
       "      <td>3.000000</td>\n",
       "      <td>1.0</td>\n",
       "      <td>35.000000</td>\n",
       "      <td>100.000000</td>\n",
       "    </tr>\n",
       "    <tr>\n",
       "      <th>max</th>\n",
       "      <td>4.303307e+07</td>\n",
       "      <td>100.000000</td>\n",
       "      <td>99135.000000</td>\n",
       "      <td>16.000000</td>\n",
       "      <td>1.0</td>\n",
       "      <td>257.000000</td>\n",
       "      <td>100.000000</td>\n",
       "    </tr>\n",
       "  </tbody>\n",
       "</table>\n",
       "</div>"
      ],
      "text/plain": [
       "            Host Id  Review Scores Rating (bin)       Zipcode          Beds  \\\n",
       "count  3.047800e+04                22155.000000  30344.000000  30393.000000   \n",
       "mean   1.273171e+07                   90.738659  10584.854831      1.530089   \n",
       "std    1.190270e+07                    9.059519    921.299397      1.015359   \n",
       "min    5.000000e+02                   20.000000   1003.000000      0.000000   \n",
       "10%    7.274437e+05                   80.000000  10009.000000      1.000000   \n",
       "50%    8.551693e+06                   90.000000  10065.000000      1.000000   \n",
       "60%    1.216061e+07                   95.000000  11205.000000      1.000000   \n",
       "90%    3.243044e+07                  100.000000  11237.000000      3.000000   \n",
       "max    4.303307e+07                  100.000000  99135.000000     16.000000   \n",
       "\n",
       "       Number of Records  Number Of Reviews  Review Scores Rating  \n",
       "count            30478.0       30478.000000          22155.000000  \n",
       "mean                 1.0          12.018735             91.993230  \n",
       "std                  0.0          21.980703              8.850373  \n",
       "min                  1.0           0.000000             20.000000  \n",
       "10%                  1.0           0.000000             80.000000  \n",
       "50%                  1.0           3.000000             94.000000  \n",
       "60%                  1.0           6.000000             96.000000  \n",
       "90%                  1.0          35.000000            100.000000  \n",
       "max                  1.0         257.000000            100.000000  "
      ]
     },
     "execution_count": 35,
     "metadata": {},
     "output_type": "execute_result"
    }
   ],
   "source": [
    "airbnb.describe(percentiles= [0.1,0.6, 0.9])"
   ]
  },
  {
   "cell_type": "code",
   "execution_count": 32,
   "id": "d5d81bde",
   "metadata": {},
   "outputs": [
    {
     "data": {
      "text/html": [
       "<div>\n",
       "<style scoped>\n",
       "    .dataframe tbody tr th:only-of-type {\n",
       "        vertical-align: middle;\n",
       "    }\n",
       "\n",
       "    .dataframe tbody tr th {\n",
       "        vertical-align: top;\n",
       "    }\n",
       "\n",
       "    .dataframe thead th {\n",
       "        text-align: right;\n",
       "    }\n",
       "</style>\n",
       "<table border=\"1\" class=\"dataframe\">\n",
       "  <thead>\n",
       "    <tr style=\"text-align: right;\">\n",
       "      <th></th>\n",
       "      <th>product</th>\n",
       "      <th>product_subcategory</th>\n",
       "      <th>SalesTerritoryRegion</th>\n",
       "      <th>SalesTerritoryCountry</th>\n",
       "      <th>SalesOrderNumber</th>\n",
       "    </tr>\n",
       "  </thead>\n",
       "  <tbody>\n",
       "    <tr>\n",
       "      <th>count</th>\n",
       "      <td>60398</td>\n",
       "      <td>60398</td>\n",
       "      <td>60398</td>\n",
       "      <td>60398</td>\n",
       "      <td>60398</td>\n",
       "    </tr>\n",
       "    <tr>\n",
       "      <th>unique</th>\n",
       "      <td>130</td>\n",
       "      <td>17</td>\n",
       "      <td>10</td>\n",
       "      <td>6</td>\n",
       "      <td>27659</td>\n",
       "    </tr>\n",
       "    <tr>\n",
       "      <th>top</th>\n",
       "      <td>Water Bottle - 30 oz.</td>\n",
       "      <td>Tires and Tubes</td>\n",
       "      <td>Australia</td>\n",
       "      <td>United States</td>\n",
       "      <td>SO70714</td>\n",
       "    </tr>\n",
       "    <tr>\n",
       "      <th>freq</th>\n",
       "      <td>4244</td>\n",
       "      <td>17332</td>\n",
       "      <td>13345</td>\n",
       "      <td>21344</td>\n",
       "      <td>8</td>\n",
       "    </tr>\n",
       "  </tbody>\n",
       "</table>\n",
       "</div>"
      ],
      "text/plain": [
       "                      product product_subcategory SalesTerritoryRegion  \\\n",
       "count                   60398               60398                60398   \n",
       "unique                    130                  17                   10   \n",
       "top     Water Bottle - 30 oz.     Tires and Tubes            Australia   \n",
       "freq                     4244               17332                13345   \n",
       "\n",
       "       SalesTerritoryCountry SalesOrderNumber  \n",
       "count                  60398            60398  \n",
       "unique                     6            27659  \n",
       "top            United States          SO70714  \n",
       "freq                   21344                8  "
      ]
     },
     "execution_count": 32,
     "metadata": {},
     "output_type": "execute_result"
    }
   ],
   "source": [
    "sales.describe(include='object')"
   ]
  },
  {
   "cell_type": "code",
   "execution_count": 49,
   "id": "0ab4962f",
   "metadata": {},
   "outputs": [
    {
     "data": {
      "text/plain": [
       "SalesTerritoryCountry  product_subcategory\n",
       "United States          Tires and Tubes        6062\n",
       "Australia              Tires and Tubes        3300\n",
       "United States          Bottles and Cages      2951\n",
       "Canada                 Tires and Tubes        2729\n",
       "Australia              Road Bikes             2603\n",
       "                                              ... \n",
       "France                 Bike Racks               25\n",
       "Germany                Bike Racks               24\n",
       "                       Bike Stands              20\n",
       "France                 Bike Stands              19\n",
       "Germany                Shorts                    9\n",
       "Name: count, Length: 102, dtype: int64"
      ]
     },
     "execution_count": 49,
     "metadata": {},
     "output_type": "execute_result"
    }
   ],
   "source": [
    "sales[['SalesTerritoryCountry', 'product_subcategory']].value_counts()"
   ]
  },
  {
   "cell_type": "code",
   "execution_count": 46,
   "id": "497b20c1",
   "metadata": {},
   "outputs": [
    {
     "data": {
      "text/plain": [
       "Neighbourhood  Property Type  \n",
       "Manhattan      Apartment          15433\n",
       "Brooklyn       Apartment           9740\n",
       "Queens         Apartment           1659\n",
       "Brooklyn       House               1202\n",
       "Queens         House                522\n",
       "Brooklyn       Loft                 502\n",
       "Manhattan      Loft                 227\n",
       "Bronx          Apartment            218\n",
       "Manhattan      House                168\n",
       "Bronx          House                110\n",
       "Staten Island  House                 88\n",
       "Brooklyn       Townhouse             79\n",
       "               Bed & Breakfast       76\n",
       "Manhattan      Bed & Breakfast       60\n",
       "               Condominium           56\n",
       "Staten Island  Apartment             52\n",
       "Manhattan      Townhouse             45\n",
       "Queens         Bed & Breakfast       36\n",
       "Brooklyn       Condominium           30\n",
       "Manhattan      Other                 23\n",
       "Brooklyn       Dorm                  19\n",
       "Queens         Loft                  17\n",
       "Brooklyn       Other                 16\n",
       "Queens         Townhouse              8\n",
       "               Dorm                   6\n",
       "               Other                  6\n",
       "Bronx          Bed & Breakfast        6\n",
       "Manhattan      Dorm                   6\n",
       "Bronx          Loft                   6\n",
       "Queens         Camper/RV              5\n",
       "               Boat                   5\n",
       "               Condominium            5\n",
       "               Villa                  4\n",
       "Bronx          Condominium            3\n",
       "Manhattan      Villa                  3\n",
       "Brooklyn       Tent                   3\n",
       "Queens         Bungalow               3\n",
       "Staten Island  Other                  2\n",
       "               Bed & Breakfast        2\n",
       "Bronx          Townhouse              2\n",
       "Staten Island  Townhouse              2\n",
       "Brooklyn       Treehouse              2\n",
       "Manhattan      Treehouse              2\n",
       "               Boat                   2\n",
       "Brooklyn       Lighthouse             1\n",
       "Manhattan      Cabin                  1\n",
       "Staten Island  Loft                   1\n",
       "Manhattan      Hut                    1\n",
       "Brooklyn       Villa                  1\n",
       "Manhattan      Tent                   1\n",
       "Brooklyn       Boat                   1\n",
       "Queens         Cabin                  1\n",
       "Brooklyn       Bungalow               1\n",
       "Queens         Hut                    1\n",
       "Brooklyn       Camper/RV              1\n",
       "               Chalet                 1\n",
       "Manhattan      Camper/RV              1\n",
       "               Castle                 1\n",
       "Name: count, dtype: int64"
      ]
     },
     "execution_count": 46,
     "metadata": {},
     "output_type": "execute_result"
    }
   ],
   "source": [
    "airbnb[['Neighbourhood', 'Property Type']].value_counts()"
   ]
  },
  {
   "cell_type": "code",
   "execution_count": 45,
   "id": "ca6d8fc3",
   "metadata": {},
   "outputs": [
    {
     "data": {
      "text/plain": [
       "Index(['Host Id', 'Host Since', 'Name', 'Neighbourhood', 'Property Type',\n",
       "       'Review Scores Rating (bin)', 'Room Type', 'Zipcode', 'Beds',\n",
       "       'Number of Records', 'Number Of Reviews', 'Price',\n",
       "       'Review Scores Rating'],\n",
       "      dtype='object')"
      ]
     },
     "execution_count": 45,
     "metadata": {},
     "output_type": "execute_result"
    }
   ],
   "source": [
    "airbnb.columns"
   ]
  },
  {
   "cell_type": "code",
   "execution_count": 59,
   "id": "c35c4e1c",
   "metadata": {},
   "outputs": [
    {
     "data": {
      "text/plain": [
       "job_title                        salary_in_usd  experience_level\n",
       "Data Engineer                    160000         SE                  51\n",
       "Applied Scientist                136000         SE                  48\n",
       "Data Scientist                   160000         SE                  44\n",
       "Data Engineer                    130000         SE                  44\n",
       "Data Scientist                   140000         SE                  38\n",
       "                                                                    ..\n",
       "Data Engineer                    143865         MI                   1\n",
       "                                 144100         SE                   1\n",
       "                                 144200         MI                   1\n",
       "                                 146000         EX                   1\n",
       "Staff Machine Learning Engineer  185000         SE                   1\n",
       "Name: count, Length: 4107, dtype: int64"
      ]
     },
     "execution_count": 59,
     "metadata": {},
     "output_type": "execute_result"
    }
   ],
   "source": [
    "salaries[['job_title', 'salary_in_usd', 'experience_level']].value_counts()"
   ]
  },
  {
   "cell_type": "code",
   "execution_count": 52,
   "id": "6dcadfb8",
   "metadata": {},
   "outputs": [
    {
     "data": {
      "text/plain": [
       "Index(['work_year', 'experience_level', 'employment_type', 'job_title',\n",
       "       'salary', 'salary_currency', 'salary_in_usd', 'employee_residence',\n",
       "       'remote_ratio', 'company_location', 'company_size'],\n",
       "      dtype='object')"
      ]
     },
     "execution_count": 52,
     "metadata": {},
     "output_type": "execute_result"
    }
   ],
   "source": [
    "salaries.columns"
   ]
  }
 ],
 "metadata": {
  "kernelspec": {
   "display_name": "Python [conda env:base] *",
   "language": "python",
   "name": "conda-base-py"
  },
  "language_info": {
   "codemirror_mode": {
    "name": "ipython",
    "version": 3
   },
   "file_extension": ".py",
   "mimetype": "text/x-python",
   "name": "python",
   "nbconvert_exporter": "python",
   "pygments_lexer": "ipython3",
   "version": "3.12.7"
  }
 },
 "nbformat": 4,
 "nbformat_minor": 5
}
